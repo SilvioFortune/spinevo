{
 "cells": [
  {
   "cell_type": "code",
   "execution_count": 1,
   "metadata": {},
   "outputs": [
    {
     "name": "stdout",
     "output_type": "stream",
     "text": [
      "Loading Functions:\n",
      "'align_plane'   'orbit_j'   'halo_vel'   \n"
     ]
    }
   ],
   "source": [
    "### Packages\n",
    "include(\"/home/moon/sfortune/spinevo/spinevo.jl\")"
   ]
  },
  {
   "cell_type": "code",
   "execution_count": 2,
   "metadata": {},
   "outputs": [
    {
     "name": "stdout",
     "output_type": "stream",
     "text": [
      "Done!"
     ]
    }
   ],
   "source": [
    "### Settings\n",
    "\n",
    "box         = \"/HydroSims/Magneticum/Box4/uhr_test\"\n",
    "input_dir   = \"/home/moon/sfortune/spinevo/halostories_v20211007_min0.0Gyr\"\n",
    "output_dir  = \"/home/moon/sfortune/spinevo/mergerimpact\"\n",
    "mass_ST_thr = 1e10\n",
    "\n",
    "storyfilelist   = readdir(input_dir)\n",
    "print(\"Done!\")\n"
   ]
  },
  {
   "cell_type": "code",
   "execution_count": 3,
   "metadata": {},
   "outputs": [
    {
     "name": "stdout",
     "output_type": "stream",
     "text": [
      "Done 1/3\n"
     ]
    },
    {
     "name": "stdout",
     "output_type": "stream",
     "text": [
      "Done 2/3\n"
     ]
    },
    {
     "name": "stdout",
     "output_type": "stream",
     "text": [
      "Done 3/3\n"
     ]
    }
   ],
   "source": [
    "assembly_DM     = load(joinpath(output_dir, \"assembly_Mstar_$(mass_ST_thr).jld\"), \"assembly_DM\")\n",
    "println(\"Done 1 / 3\")\n",
    "assembly_GAS    = load(joinpath(output_dir, \"assembly_Mstar_$(mass_ST_thr).jld\"), \"assembly_GAS\")\n",
    "println(\"Done 2 / 3\")\n",
    "assembly_STARS  = load(joinpath(output_dir, \"assembly_Mstar_$(mass_ST_thr).jld\"), \"assembly_STARS\")\n",
    "println(\"Done 3 / 3\")\n"
   ]
  },
  {
   "cell_type": "code",
   "execution_count": 4,
   "metadata": {},
   "outputs": [
    {
     "name": "stdout",
     "output_type": "stream",
     "text": [
      "(2278,)   (2278,)\n",
      "2278\n"
     ]
    },
    {
     "name": "stdout",
     "output_type": "stream",
     "text": [
      "2278\n"
     ]
    },
    {
     "name": "stdout",
     "output_type": "stream",
     "text": [
      "0\n",
      "0\n"
     ]
    },
    {
     "name": "stdout",
     "output_type": "stream",
     "text": [
      "0\n"
     ]
    }
   ],
   "source": [
    "#array of max merger indices\n",
    "indices_main_mm = missings(Int64, 0)\n",
    "indices_MMdm    = missings(Int64, 0)\n",
    "for i in 1:length(assembly_DM[\"M2_felix\"])\n",
    "    if sum( assembly_DM[\"Merger_Map\"][2, 1+sum(assembly_DM[\"N_MERGERS\"][1:i-1]) : sum(assembly_DM[\"N_MERGERS\"][1:i])] ) > 0. # is there a merger?\n",
    "        global indices_MMdm    = vcat( indices_MMdm, sum(assembly_DM[\"N_MERGERS\"][1:i-1]) + argmax( assembly_DM[\"Merger_Map\"][2,1+sum(assembly_DM[\"N_MERGERS\"][1:i-1]):sum(assembly_DM[\"N_MERGERS\"][1:i])] ) )\n",
    "        global indices_main_mm = vcat( indices_main_mm, i)\n",
    "    end\n",
    "end\n",
    "m2_felix    = assembly_DM[\"Merger_Map\"][4,indices_MMdm]\n",
    "m2_mm       = assembly_DM[\"Merger_Map\"][2,indices_MMdm]\n",
    "println(\"$(size(m2_felix))   $(size(m2_mm))\")\n",
    "println(length(indices_MMdm))\n",
    "println( length(indices_MMdm)-count(ismissing, indices_MMdm) )\n",
    "println(count(ismissing, log10.(m2_felix ./ m2_mm) ) )\n",
    "println(count(ismissing, replace( log10.(m2_felix ./ m2_mm), missing=>NaN ) ) )\n",
    "println(count(isnan, replace( log10.(m2_felix ./ m2_mm), missing=>NaN ) ) )"
   ]
  },
  {
   "cell_type": "code",
   "execution_count": 5,
   "metadata": {},
   "outputs": [
    {
     "data": {
      "text/plain": [
       "0"
      ]
     },
     "metadata": {},
     "output_type": "display_data"
    }
   ],
   "source": [
    "#count(isnan,assembly_DM[\"Merger_Map\"][4,indices_MMdm] ./ assembly_DM[\"Merger_Map\"][2,indices_MMdm])\n",
    "count(iszero,assembly_DM[\"Merger_Map\"][2,indices_MMdm])"
   ]
  },
  {
   "cell_type": "code",
   "execution_count": 8,
   "metadata": {},
   "outputs": [],
   "source": [
    "bin_factor  = 20\n",
    "ϕmin        = 0#minimum(assembly_STARS[\"ϕ_flip\"])\n",
    "ϕmax        = 180#maximum(assembly_STARS[\"ϕ_flip\"])\n",
    "ymin        = 0.1 #-2 #minimum(assembly_DM[\"Merger_Map\"][4,indices_MMdm] ./ assembly_DM[\"Merger_Map\"][2,indices_MMdm])\n",
    "ymax        = 20 #6 #maximum(assembly_DM[\"Merger_Map\"][4,indices_MMdm] ./ assembly_DM[\"Merger_Map\"][2,indices_MMdm])\n",
    "matplotlib  = pyimport(\"matplotlib\")\n",
    "axes_grid1  = pyimport(\"mpl_toolkits.axes_grid1\")\n",
    "pltcolors   = pyimport(\"matplotlib.colors\")\n",
    "matplotlib.use(\"qt5agg\")\n",
    "\n",
    "\n",
    "\n",
    "\n",
    "fig, ax = subplots()\n",
    "\n",
    "h = ax.hexbin( replace(assembly_STARS[\"ϕ_flip\"][indices_main_mm], missing=>NaN), \n",
    "    replace(assembly_DM[\"Merger_Map\"][4,indices_MMdm] ./ assembly_DM[\"Merger_Map\"][2,indices_MMdm], 0.0=>NaN), #yscale=\"log\", \n",
    "    gridsize=bin_factor,\n",
    "    extent=[ϕmin,ϕmax, ymin,ymax], \n",
    "    cmap=\"BuPu\", zorder=1, norm=pltcolors.LogNorm() )\n",
    "\n",
    "#ax.set_yticks([1e-2,1e-1,1e0,1e1,1e2,1e3,1e4,1e5,1e6])\n",
    "ax.set_xlabel(\"Flip Angle ϕ [°]\")\n",
    "ax.set_ylabel(\"DM Mass Ratio\")\n",
    "ax.set_title(\"Most Massive Merger\")\n",
    "#ax.grid()\n",
    "fig.colorbar(h, ax=ax)\n",
    "\n",
    "scale=0.7\n",
    "\n",
    "fig.set_size_inches(16scale, 9*scale)\n",
    "fig.tight_layout()\n",
    "show()\n",
    "\n",
    "#fig.savefig(joinpath(@__DIR__, \"plots/M2mostmassive_vs_flipangles_MSTARSgt$(mass_ST_thr).png\"), bbox_inches=\"tight\", pad_inches=.1)\n"
   ]
  },
  {
   "cell_type": "code",
   "execution_count": 6,
   "metadata": {},
   "outputs": [
    {
     "name": "stdout",
     "output_type": "stream",
     "text": [
      "   Halo 17615 with    ---   Snap 113.0   ---   Ratio 0.0009032082240927281"
     ]
    },
    {
     "name": "stdout",
     "output_type": "stream",
     "text": [
      "\n",
      " Halo 9683 with    ---   Snap 128.0   ---   Ratio 3.5334894522557883e-6\n",
      "    "
     ]
    },
    {
     "name": "stdout",
     "output_type": "stream",
     "text": [
      "  "
     ]
    },
    {
     "name": "stdout",
     "output_type": "stream",
     "text": [
      " Halo 2323 with    ---   Snap 79.0   ---   Ratio 0.0\n",
      " "
     ]
    },
    {
     "name": "stdout",
     "output_type": "stream",
     "text": [
      "  "
     ]
    },
    {
     "name": "stdout",
     "output_type": "stream",
     "text": [
      "Halo 12334 with    ---   Snap 131.0   ---   Ratio 0.0\n",
      "  "
     ]
    },
    {
     "name": "stdout",
     "output_type": "stream",
     "text": [
      "  "
     ]
    },
    {
     "name": "stdout",
     "output_type": "stream",
     "text": [
      "    "
     ]
    },
    {
     "name": "stdout",
     "output_type": "stream",
     "text": [
      "  "
     ]
    },
    {
     "name": "stdout",
     "output_type": "stream",
     "text": [
      "  "
     ]
    },
    {
     "name": "stdout",
     "output_type": "stream",
     "text": [
      "  "
     ]
    },
    {
     "name": "stdout",
     "output_type": "stream",
     "text": [
      "  "
     ]
    },
    {
     "name": "stdout",
     "output_type": "stream",
     "text": [
      "  "
     ]
    },
    {
     "name": "stdout",
     "output_type": "stream",
     "text": [
      "  "
     ]
    },
    {
     "name": "stdout",
     "output_type": "stream",
     "text": [
      "  "
     ]
    },
    {
     "name": "stdout",
     "output_type": "stream",
     "text": [
      "    "
     ]
    },
    {
     "name": "stdout",
     "output_type": "stream",
     "text": [
      "  "
     ]
    },
    {
     "name": "stdout",
     "output_type": "stream",
     "text": [
      "    "
     ]
    },
    {
     "name": "stdout",
     "output_type": "stream",
     "text": [
      "  "
     ]
    },
    {
     "name": "stdout",
     "output_type": "stream",
     "text": [
      " Halo 15394 with    ---   Snap 116.0   ---   Ratio 0.0002877531122384094\n",
      " "
     ]
    },
    {
     "name": "stdout",
     "output_type": "stream",
     "text": [
      " \n",
      "\n",
      "0   0"
     ]
    },
    {
     "name": "stdout",
     "output_type": "stream",
     "text": [
      "\n",
      "(13527,)   (13527,)\n"
     ]
    }
   ],
   "source": [
    "# δj collection\n",
    "\n",
    "δj_abs      = missings(Float64, 0)\n",
    "δj_rel      = missings(Float64, 0)\n",
    "δbval       = missings(Float64, 0)\n",
    "indices_j   = missings(Int64, 0)\n",
    "indices_j_main_mm   = missings(Int64, 0)\n",
    "indices_j_MMdm      = missings(Int64, 0)\n",
    "indices_giant_mergers   = missings(Int64, 0)\n",
    "\n",
    "for i in 1:length(assembly_STARS[\"δj_main\"][1,:])\n",
    "    if count(ismissing, assembly_STARS[\"δj_main\"][:,i]) == 0 # dj data available?\n",
    "        δj_abs      = vcat( δj_abs, norm(assembly_STARS[\"δj_main\"][:,i]) )\n",
    "        δbval       = vcat( δbval, assembly_STARS[\"δBVAL\"][i] )\n",
    "        δj_rel      = vcat( δj_rel, norm(assembly_STARS[\"δj_main\"][:,i]) / ( norm(assembly_STARS[\"j_main\"][:,i] - assembly_STARS[\"δj_main\"][:,i]) ) )\n",
    "        indices_j   = vcat( indices_j, i )\n",
    "        if i in indices_main_mm\n",
    "            indices_j_main_mm   = vcat(indices_j_main_mm, i)\n",
    "            indices_j_MMdm      = vcat(indices_j_MMdm, sum(assembly_DM[\"N_MERGERS\"][1:i-1]) + argmax( assembly_DM[\"Merger_Map\"][2,1+sum(assembly_DM[\"N_MERGERS\"][1:i-1]):sum(assembly_DM[\"N_MERGERS\"][1:i])] ) )\n",
    "            if assembly_DM[\"Merger_Map\"][4,indices_j_MMdm[end]] / assembly_DM[\"Merger_Map\"][2,indices_j_MMdm[end]] < 1e-3\n",
    "                println(\"Halo $(assembly_DM[\"ID_ISUB\"][indices_j_main_mm[end]]) with    ---   Snap $(assembly_DM[\"Merger_Map\"][5,indices_j_MMdm[end]])   ---   Ratio $(assembly_DM[\"Merger_Map\"][4,indices_j_MMdm[end]] / assembly_DM[\"Merger_Map\"][2,indices_j_MMdm[end]])\")\n",
    "                indices_giant_mergers   = vcat(indices_giant_mergers, i)\n",
    "            end\n",
    "        end\n",
    "    else\n",
    "        print(\" \")\n",
    "    end\n",
    "end\n",
    "\n",
    "println(\"\\n\\n$(count(ismissing, δj_rel))   $(count(ismissing, assembly_STARS[\"ϕ_flip\"][indices_j]))\")\n",
    "println(\"$(size(δj_rel))   $(size(assembly_STARS[\"ϕ_flip\"][indices_j]))\")"
   ]
  },
  {
   "cell_type": "code",
   "execution_count": 75,
   "metadata": {},
   "outputs": [],
   "source": [
    "\n",
    "#temp_mass2plot = convert( Array{Float64},assembly_STARS[\"δM2_felix\"][indices_j] )\n",
    "temp_mass2plot = assembly_STARS[\"M2_MM\"][indices_j]\n",
    "replace!(temp_mass2plot, missing => NaN)\n",
    "for i in 1:length(temp_mass2plot)\n",
    "    if temp_mass2plot[i] <= 0.\n",
    "        temp_mass2plot[i] = NaN\n",
    "    end\n",
    "end\n",
    "#convert(Array{Float64},temp_mass2plot)\n",
    "#temp_mass2plot[temp_mass2plot. <= 0] .= NaN\n",
    "#@show temp_mass2plot"
   ]
  },
  {
   "cell_type": "code",
   "execution_count": 76,
   "metadata": {},
   "outputs": [],
   "source": [
    "# δj vs b-value\n",
    "\n",
    "bin_factor  = 50\n",
    "ϕmin        = 0\n",
    "ϕmax        = 180\n",
    "ymin        = -2\n",
    "ymax        = 6\n",
    "matplotlib  = pyimport(\"matplotlib\")\n",
    "axes_grid1  = pyimport(\"mpl_toolkits.axes_grid1\")\n",
    "pltcolors   = pyimport(\"matplotlib.colors\")\n",
    "matplotlib.use(\"qt5agg\")\n",
    "\n",
    "\n",
    "#temp_mass2plot = assembly_STARS[\"δM2_felix\"][indices_j]\n",
    "#temp_mass2plot[temp_mass2plot. <= 0] .= NaN\n",
    "#println(\"$(size(temp_mass2plot))\")\n",
    "\n",
    "\n",
    "fig, ax = subplots()\n",
    "\n",
    "#h = ax.hexbin( assembly_STARS[\"δM2_felix\"][indices_j], \n",
    "h = ax.hexbin( temp_mass2plot, \n",
    "    δj_abs, yscale=\"log\", xscale=\"log\", \n",
    "    gridsize=bin_factor,\n",
    "    #extent=[ϕmin,ϕmax, ymin,ymax], \n",
    "    cmap=\"BuPu\", zorder=1, norm=pltcolors.LogNorm() )\n",
    "\n",
    "#ax.set_yticks([1e-2,1e-1,1e0,1e1,1e2,1e3,1e4,1e5,1e6])\n",
    "ax.set_xlabel(\"Most Massive M2_star [M_⊙]\")\n",
    "#ax.set_ylabel(\"|δj_star| / |j_star,t1|\")\n",
    "ax.set_ylabel(\"|δj_star|\")\n",
    "#ax.set_title(\"Most Massive Merger\")\n",
    "#ax.grid()\n",
    "fig.colorbar(h, ax=ax)\n",
    "\n",
    "scale=0.7\n",
    "\n",
    "fig.set_size_inches(16*scale, 9*scale)\n",
    "fig.tight_layout()\n",
    "show()\n",
    "\n",
    "#fig.savefig(joinpath(@__DIR__, \"plots/djabs_vs_M2mm_MSTARSgt$(mass_ST_thr).png\"), bbox_inches=\"tight\", pad_inches=.1)\n"
   ]
  }
 ],
 "metadata": {
  "kernelspec": {
   "display_name": "Julia 1.6.3",
   "language": "julia",
   "name": "julia-1.6"
  },
  "language_info": {
   "file_extension": ".jl",
   "mimetype": "application/julia",
   "name": "julia",
   "version": "1.6.3"
  },
  "orig_nbformat": 4
 },
 "nbformat": 4,
 "nbformat_minor": 2
}
