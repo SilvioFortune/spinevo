{
 "cells": [
  {
   "cell_type": "code",
   "execution_count": 1,
   "metadata": {},
   "outputs": [
    {
     "name": "stdout",
     "output_type": "stream",
     "text": [
      "Done!\n"
     ]
    }
   ],
   "source": [
    "### Packages\n",
    "\n",
    "using Printf\n",
    "using LinearAlgebra\n",
    "using JLD\n",
    "using QuadGK\n",
    "using Statistics\n",
    "using PyCall\n",
    "using PyPlot\n",
    "using LaTeXStrings\n",
    "using GadgetIO\n",
    "using GadgetUnits\n",
    "using GadgetGalaxies\n",
    "using Unitful\n",
    "using UnitfulAstro\n",
    "using Missings\n",
    "using Distributions\n",
    "using CSV\n",
    "using DataFrames\n",
    "using Cosmology\n",
    "using Suppressor\n",
    "\n",
    "println(\"Done!\")\n"
   ]
  },
  {
   "cell_type": "code",
   "execution_count": 2,
   "metadata": {},
   "outputs": [
    {
     "name": "stdout",
     "output_type": "stream",
     "text": [
      "done"
     ]
    }
   ],
   "source": [
    "### Settings\n",
    "\n",
    "box         = \"/HydroSims/Magneticum/Box4/uhr_test\"\n",
    "input_dir   = \"/home/moon/sfortune/spinevo/halostories_v20211007_min0.0Gyr\"\n",
    "output_dir  = \"/home/moon/sfortune/spinevo/mergerimpact\"\n",
    "mass_ST_thr = 1e10\n",
    "\n",
    "storyfilelist   = readdir(input_dir)\n",
    "print(\"done\")\n"
   ]
  },
  {
   "cell_type": "code",
   "execution_count": 3,
   "metadata": {},
   "outputs": [
    {
     "data": {
      "text/plain": [
       "Dict{String, Array} with 32 entries:\n",
       "  \"I_SUB\"         => Union{Missing, Int64}[0, 0, 0, 466, 671, 656, 715, 719, 73…\n",
       "  \"M_MISSED\"      => Union{Missing, Float64}[missing, missing, missing, missing…\n",
       "  \"Merger_Map\"    => Union{Missing, Float64}[1.61713e10 3.59224e9 … 2.79697e8 2…\n",
       "  \"M_fromJ\"       => Union{Missing, Float64}[7.75752e11, 9.81942e11, 1.08073e12…\n",
       "  \"SNAP\"          => Union{Missing, Int64}[40, 44, 48, 52, 58, 60, 64, 68, 72, …\n",
       "  \"M2_MISSED\"     => Union{Missing, Float64}[missing, missing, missing, missing…\n",
       "  \"δM2_felix\"     => Union{Missing, Float64}[5.69021e11, 4.78446e11, 1.44396e11…\n",
       "  \"M2_CONSIDERED\" => Union{Missing, Float64}[2.01757e10, 3.51743e11, 6.82604e10…\n",
       "  \"REDSHIFT\"      => Union{Missing, Float64}[1.70635, 1.47758, 1.32344, 1.17889…\n",
       "  \"M2_felix\"      => Union{Missing, Float64}[5.69021e11, 1.04747e12, 1.19186e12…\n",
       "  \"ϕ_flip\"        => Union{Missing, Float64}[10.5283, 155.146, 23.5839, 145.292…\n",
       "  \"M_MM\"          => Union{Missing, Float64}[1.61713e10, 1.0348e11, 1.67864e10,…\n",
       "  \"M_felix\"       => Union{Missing, Float64}[9.05997e11, 1.18722e12, 1.30218e12…\n",
       "  \"LOOKBACKTIME\"  => Union{Missing, Float64}[9.85553, 9.33008, 8.90886, 8.45283…\n",
       "  \"M_MERGERS\"     => Union{Missing, Float64}[2.01757e10, 1.05708e11, 1.67864e10…\n",
       "  \"M2_MERGERS\"    => Union{Missing, Float64}[2.01757e10, 3.51743e11, 6.82604e10…\n",
       "  \"M2_MM\"         => Union{Missing, Float64}[1.61713e10, 3.48374e11, 6.82604e10…\n",
       "  \"J_MMorbital\"   => Union{Missing, Float64}[2.38556e13 7.38902e14 … 6.79156e13…\n",
       "  \"δj_main\"       => Union{Missing, Float64}[137.84 371.765 … 172.517 400.661; …\n",
       "  ⋮               => ⋮"
      ]
     },
     "metadata": {},
     "output_type": "display_data"
    }
   ],
   "source": [
    "assembly_DM     = load(joinpath(output_dir, \"assembly_Mstar_$(mass_ST_thr).jld\"), \"assembly_DM\")\n",
    "println(\"Done 1/3\")\n",
    "assembly_GAS    = load(joinpath(output_dir, \"assembly_Mstar_$(mass_ST_thr).jld\"), \"assembly_GAS\")\n",
    "println(\"Done 2/3\")\n",
    "assembly_STARS  = load(joinpath(output_dir, \"assembly_Mstar_$(mass_ST_thr).jld\"), \"assembly_STARS\")\n",
    "println(\"Done 3/3\")\n"
   ]
  },
  {
   "cell_type": "code",
   "execution_count": 4,
   "metadata": {},
   "outputs": [
    {
     "name": "stdout",
     "output_type": "stream",
     "text": [
      "(2278,)   (2278,)\n",
      "2278\n",
      "2278\n"
     ]
    },
    {
     "name": "stdout",
     "output_type": "stream",
     "text": [
      "0\n",
      "0\n",
      "0\n",
      "0\n",
      "0\n"
     ]
    },
    {
     "name": "stdout",
     "output_type": "stream",
     "text": [
      "(2278,)\n"
     ]
    }
   ],
   "source": [
    "#array of max merger indices\n",
    "main_mm_indices = missings(Int64, 0)\n",
    "MMdm_indices    = missings(Int64, 0)\n",
    "for i in 1:length(assembly_DM[\"M2_felix\"])\n",
    "    if sum( assembly_DM[\"Merger_Map\"][2, 1+sum(assembly_DM[\"N_MERGERS\"][1:i-1]) : sum(assembly_DM[\"N_MERGERS\"][1:i])] ) > 0. # is there a merger?\n",
    "        global MMdm_indices    = vcat( MMdm_indices, sum(assembly_DM[\"N_MERGERS\"][1:i-1]) + argmax( assembly_DM[\"Merger_Map\"][2,1+sum(assembly_DM[\"N_MERGERS\"][1:i-1]):sum(assembly_DM[\"N_MERGERS\"][1:i])] ) )\n",
    "        global main_mm_indices = vcat( main_mm_indices, i)\n",
    "    end\n",
    "end\n",
    "m2_felix    = assembly_DM[\"Merger_Map\"][4,MMdm_indices]\n",
    "m2_mm       = assembly_DM[\"Merger_Map\"][2,MMdm_indices]\n",
    "println(\"$(size(m2_felix))   $(size(m2_mm))\")\n",
    "println(length(MMdm_indices))\n",
    "println( length(MMdm_indices)-count(ismissing, MMdm_indices) )\n",
    "println(count(ismissing, log10.(m2_felix ./ m2_mm) ) )\n",
    "println(count(ismissing, replace( log10.(m2_felix ./ m2_mm), missing=>NaN ) ) )\n",
    "println(count(isnan, replace( log10.(m2_felix ./ m2_mm), missing=>NaN ) ) )\n",
    "println(count(ismissing, replace( replace( log10.(m2_felix ./ m2_mm), missing=>NaN ), Inf=>NaN ) ) )\n",
    "println(count(isnan, replace( replace( log10.(m2_felix ./ m2_mm), missing=>NaN ), Inf=>NaN ) ) )\n",
    "println(size(assembly_STARS[\"ϕ_flip\"][main_mm_indices]))\n"
   ]
  },
  {
   "cell_type": "code",
   "execution_count": 10,
   "metadata": {},
   "outputs": [
    {
     "data": {
      "text/plain": [
       "0"
      ]
     },
     "metadata": {},
     "output_type": "display_data"
    }
   ],
   "source": [
    "#count(isnan,assembly_DM[\"Merger_Map\"][4,MMdm_indices] ./ assembly_DM[\"Merger_Map\"][2,MMdm_indices])\n",
    "count(iszero,assembly_DM[\"Merger_Map\"][2,MMdm_indices])"
   ]
  },
  {
   "cell_type": "code",
   "execution_count": 48,
   "metadata": {},
   "outputs": [],
   "source": [
    "bin_factor  = 20\n",
    "ϕmin        = 0#minimum(assembly_STARS[\"ϕ_flip\"])\n",
    "ϕmax        = 180#maximum(assembly_STARS[\"ϕ_flip\"])\n",
    "ymin        = 0.1 #-2 #minimum(assembly_DM[\"Merger_Map\"][4,MMdm_indices] ./ assembly_DM[\"Merger_Map\"][2,MMdm_indices])\n",
    "ymax        = 20 #6 #maximum(assembly_DM[\"Merger_Map\"][4,MMdm_indices] ./ assembly_DM[\"Merger_Map\"][2,MMdm_indices])\n",
    "matplotlib  = pyimport(\"matplotlib\")\n",
    "axes_grid1  = pyimport(\"mpl_toolkits.axes_grid1\")\n",
    "pltcolors   = pyimport(\"matplotlib.colors\")\n",
    "matplotlib.use(\"qt5agg\")\n",
    "\n",
    "\n",
    "\n",
    "\n",
    "fig, ax = subplots()\n",
    "\n",
    "h = ax.hexbin( replace(assembly_STARS[\"ϕ_flip\"][main_mm_indices], missing=>NaN), \n",
    "    replace(assembly_DM[\"Merger_Map\"][4,MMdm_indices] ./ assembly_DM[\"Merger_Map\"][2,MMdm_indices], 0.0=>NaN), #yscale=\"log\", \n",
    "    gridsize=bin_factor,\n",
    "    extent=[ϕmin,ϕmax, ymin,ymax], \n",
    "    cmap=\"BuPu\", zorder=1, norm=pltcolors.LogNorm() )\n",
    "\n",
    "#ax.set_yticks([1e-2,1e-1,1e0,1e1,1e2,1e3,1e4,1e5,1e6])\n",
    "ax.set_xlabel(\"Flip Angle ϕ [°]\")\n",
    "ax.set_ylabel(\"DM Mass Ratio\")\n",
    "ax.set_title(\"Most Massive Merger\")\n",
    "#ax.grid()\n",
    "fig.colorbar(h, ax=ax)\n",
    "\n",
    "scale=0.7\n",
    "\n",
    "fig.set_size_inches(16scale, 9*scale)\n",
    "fig.tight_layout()\n",
    "show()\n",
    "\n",
    "fig.savefig(joinpath(@__DIR__, \"plots/M2mostmassive_vs_flipangles_MSTARSgt$(mass_ST_thr).png\"), bbox_inches=\"tight\", pad_inches=.1)\n"
   ]
  },
  {
   "cell_type": "code",
   "execution_count": null,
   "metadata": {},
   "outputs": [],
   "source": [
    "# δj vs b-value\n",
    "\n",
    "bin_factor  = 50\n",
    "ϕmin        = 0\n",
    "ϕmax        = 180\n",
    "ymin        = -2\n",
    "ymax        = 6\n",
    "matplotlib  = pyimport(\"matplotlib\")\n",
    "axes_grid1  = pyimport(\"mpl_toolkits.axes_grid1\")\n",
    "pltcolors   = pyimport(\"matplotlib.colors\")\n",
    "matplotlib.use(\"qt5agg\")\n",
    "\n",
    "\n",
    "\n",
    "\n",
    "fig, ax = subplots()\n",
    "\n",
    "h = ax.hexbin( replace(assembly_STARS[\"ϕ_flip\"][main_mm_indices], missing=>NaN), \n",
    "    replace(assembly_DM[\"Merger_Map\"][4,MMdm_indices] ./ assembly_DM[\"Merger_Map\"][2,MMdm_indices], 0.0=>NaN), #yscale=\"log\", \n",
    "    gridsize=bin_factor,\n",
    "    #extent=[ϕmin,ϕmax, ymin,ymax], \n",
    "    cmap=\"BuPu\", zorder=1, norm=pltcolors.LogNorm() )\n",
    "\n",
    "#ax.set_yticks([1e-2,1e-1,1e0,1e1,1e2,1e3,1e4,1e5,1e6])\n",
    "ax.set_xlabel(\"Flip Angle ϕ [°]\")\n",
    "ax.set_ylabel(\"log10( DM Mass Ratio )\")\n",
    "ax.set_title(\"Most Massive Merger\")\n",
    "#ax.grid()\n",
    "fig.colorbar(h, ax=ax)\n",
    "\n",
    "scale=0.7\n",
    "\n",
    "fig.set_size_inches(16scale, 9*scale)\n",
    "fig.tight_layout()\n",
    "show()\n",
    "\n",
    "#fig.savefig(joinpath(@__DIR__, \"plots/_MSTARSgt$(mass_ST_thr).png\"), bbox_inches=\"tight\", pad_inches=.1)\n"
   ]
  }
 ],
 "metadata": {
  "kernelspec": {
   "display_name": "Julia 1.6.3",
   "language": "julia",
   "name": "julia-1.6"
  },
  "language_info": {
   "file_extension": ".jl",
   "mimetype": "application/julia",
   "name": "julia",
   "version": "1.6.3"
  },
  "orig_nbformat": 4
 },
 "nbformat": 4,
 "nbformat_minor": 2
}
