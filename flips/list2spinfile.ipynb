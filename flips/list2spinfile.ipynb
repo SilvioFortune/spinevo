{
 "cells": [
  {
   "cell_type": "code",
   "execution_count": 1,
   "metadata": {},
   "outputs": [],
   "source": [
    "### Packages\n",
    "\n",
    "using Printf\n",
    "using LinearAlgebra\n",
    "using JLD\n",
    "using QuadGK\n",
    "using Statistics\n",
    "using PyCall\n",
    "using PyPlot\n",
    "using LaTeXStrings\n",
    "using GadgetIO\n",
    "using GadgetUnits\n",
    "using GadgetGalaxies\n",
    "using UnitfulAstro\n",
    "using Missings\n",
    "using HypothesisTests\n",
    "using Distributions\n",
    "using CSV\n",
    "using DataFrames"
   ]
  },
  {
   "cell_type": "code",
   "execution_count": 3,
   "metadata": {},
   "outputs": [
    {
     "data": {
      "text/plain": [
       "\"/HydroSims/Magneticum/Box4/uhr_test/\""
      ]
     },
     "execution_count": 3,
     "metadata": {},
     "output_type": "execute_result"
    }
   ],
   "source": [
    "### Settings\n",
    "\n",
    "haloID      = 0\n",
    "\n",
    "filepath    = \"/home/moon/fschulze/MA/Data/thesis/Halo_trace_20200605_new/halo_$haloID.dat\"\n",
    "box         = \"/HydroSims/Magneticum/Box4/uhr_test/\"\n",
    "\n",
    "function orbit_J(snapID, subID; box=\"/HydroSims/Magneticum/Box4/uhr_test\")\n",
    "    # Find central sub\n",
    "    pathtofile  = \"$box/groups_$(@sprintf(\"%03i\", snapID))/sub_$(@sprintf(\"%03i\", snapID))\"    \n",
    "    head        = read_header(pathtofile)\n",
    "    # raus damit nsub        = read_subfind(pathtofile, \"NSUB\")\n",
    "    grnr        = read_subfind(pathtofile, \"NSUB\")\n",
    "    # fsub\n",
    "    grnr[subID+1]\n",
    "    \n",
    "    centID      = fsub[grnr[subID+1]+1]\n",
    "    # Read halo features and return orbital spin\n",
    "    smst        = convert_units_physical(read_subfind(pathtofile, \"SMST\"), :mass, head)\n",
    "    spos        = convert_units_physical(read_subfind(pathtofile, \"SPOS\"), :pos, head)\n",
    "    svel        = convert_units_physical(read_subfind(pathtofile, \"SVEL\"), :vel, head)\n",
    "    return ((spos[:,subID+1] .- spos[:,centID+1]) × (svel[:,subID+1] .- svel[:,centID+1])) .* smst[subID+1]\n",
    "end"
   ]
  },
  {
   "cell_type": "code",
   "execution_count": 4,
   "metadata": {},
   "outputs": [
    {
     "data": {
      "text/html": [
       "<table class=\"data-frame\"><thead><tr><th></th><th>variable</th><th>mean</th><th>min</th><th>median</th><th>max</th><th>nmissing</th><th>eltype</th></tr><tr><th></th><th>Symbol</th><th>Float64</th><th>Real</th><th>Float64</th><th>Real</th><th>Int64</th><th>DataType</th></tr></thead><tbody><p>12 rows × 7 columns</p><tr><th>1</th><td>SNAP</td><td>95.1143</td><td>36</td><td>98.0</td><td>136</td><td>0</td><td>Int64</td></tr><tr><th>2</th><td>I_SUB</td><td>616.34</td><td>0</td><td>669.0</td><td>5058</td><td>0</td><td>Int64</td></tr><tr><th>3</th><td>I_TREE</td><td>1.47982e6</td><td>0</td><td>2.45222e6</td><td>2543231</td><td>0</td><td>Int64</td></tr><tr><th>4</th><td>FILE_NR</td><td>0.0314286</td><td>0</td><td>0.0</td><td>6</td><td>0</td><td>Int64</td></tr><tr><th>5</th><td>REDSHIFT</td><td>0.552567</td><td>0.0663401</td><td>0.446774</td><td>1.98008</td><td>0</td><td>Float64</td></tr><tr><th>6</th><td>M_STARS</td><td>48.8487</td><td>0.0140895</td><td>0.0354461</td><td>256.398</td><td>0</td><td>Float64</td></tr><tr><th>7</th><td>M_STAR_2</td><td>46.9441</td><td>0.0</td><td>0.0553686</td><td>248.223</td><td>0</td><td>Float64</td></tr><tr><th>8</th><td>M_GAS</td><td>157.282</td><td>0.0</td><td>0.0</td><td>1266.1</td><td>0</td><td>Float64</td></tr><tr><th>9</th><td>M_GAS_2</td><td>146.964</td><td>0.0</td><td>0.116711</td><td>1139.11</td><td>0</td><td>Float64</td></tr><tr><th>10</th><td>M_DM</td><td>1529.59</td><td>0.0</td><td>0.00727284</td><td>10721.1</td><td>0</td><td>Float64</td></tr><tr><th>11</th><td>M_DM_2</td><td>1441.97</td><td>0.0</td><td>0.10182</td><td>9559.16</td><td>0</td><td>Float64</td></tr><tr><th>12</th><td>MMP</td><td>0.288571</td><td>0.0</td><td>0.0</td><td>1.0</td><td>0</td><td>Float64</td></tr></tbody></table>"
      ],
      "text/latex": [
       "\\begin{tabular}{r|ccccccc}\n",
       "\t& variable & mean & min & median & max & nmissing & eltype\\\\\n",
       "\t\\hline\n",
       "\t& Symbol & Float64 & Real & Float64 & Real & Int64 & DataType\\\\\n",
       "\t\\hline\n",
       "\t1 & SNAP & 95.1143 & 36 & 98.0 & 136 & 0 & Int64 \\\\\n",
       "\t2 & I\\_SUB & 616.34 & 0 & 669.0 & 5058 & 0 & Int64 \\\\\n",
       "\t3 & I\\_TREE & 1.47982e6 & 0 & 2.45222e6 & 2543231 & 0 & Int64 \\\\\n",
       "\t4 & FILE\\_NR & 0.0314286 & 0 & 0.0 & 6 & 0 & Int64 \\\\\n",
       "\t5 & REDSHIFT & 0.552567 & 0.0663401 & 0.446774 & 1.98008 & 0 & Float64 \\\\\n",
       "\t6 & M\\_STARS & 48.8487 & 0.0140895 & 0.0354461 & 256.398 & 0 & Float64 \\\\\n",
       "\t7 & M\\_STAR\\_2 & 46.9441 & 0.0 & 0.0553686 & 248.223 & 0 & Float64 \\\\\n",
       "\t8 & M\\_GAS & 157.282 & 0.0 & 0.0 & 1266.1 & 0 & Float64 \\\\\n",
       "\t9 & M\\_GAS\\_2 & 146.964 & 0.0 & 0.116711 & 1139.11 & 0 & Float64 \\\\\n",
       "\t10 & M\\_DM & 1529.59 & 0.0 & 0.00727284 & 10721.1 & 0 & Float64 \\\\\n",
       "\t11 & M\\_DM\\_2 & 1441.97 & 0.0 & 0.10182 & 9559.16 & 0 & Float64 \\\\\n",
       "\t12 & MMP & 0.288571 & 0.0 & 0.0 & 1.0 & 0 & Float64 \\\\\n",
       "\\end{tabular}\n"
      ],
      "text/plain": [
       "\u001b[1m12×7 DataFrame\u001b[0m\n",
       "\u001b[1m Row \u001b[0m│\u001b[1m variable \u001b[0m\u001b[1m mean         \u001b[0m\u001b[1m min        \u001b[0m\u001b[1m median       \u001b[0m\u001b[1m max           \u001b[0m\u001b[1m nmissi\u001b[0m ⋯\n",
       "\u001b[1m     \u001b[0m│\u001b[90m Symbol   \u001b[0m\u001b[90m Float64      \u001b[0m\u001b[90m Real       \u001b[0m\u001b[90m Float64      \u001b[0m\u001b[90m Real          \u001b[0m\u001b[90m Int64 \u001b[0m ⋯\n",
       "─────┼──────────────────────────────────────────────────────────────────────────\n",
       "   1 │ SNAP        95.1143     36           98.0             136               ⋯\n",
       "   2 │ I_SUB      616.34        0          669.0            5058\n",
       "   3 │ I_TREE       1.47982e6   0            2.45222e6   2543231\n",
       "   4 │ FILE_NR      0.0314286   0            0.0               6\n",
       "   5 │ REDSHIFT     0.552567    0.0663401    0.446774          1.98008         ⋯\n",
       "   6 │ M_STARS     48.8487      0.0140895    0.0354461       256.398\n",
       "   7 │ M_STAR_2    46.9441      0.0          0.0553686       248.223\n",
       "   8 │ M_GAS      157.282       0.0          0.0            1266.1\n",
       "   9 │ M_GAS_2    146.964       0.0          0.116711       1139.11            ⋯\n",
       "  10 │ M_DM      1529.59        0.0          0.00727284    10721.1\n",
       "  11 │ M_DM_2    1441.97        0.0          0.10182        9559.16\n",
       "  12 │ MMP          0.288571    0.0          0.0               1.0\n",
       "\u001b[36m                                                               2 columns omitted\u001b[0m"
      ]
     },
     "execution_count": 4,
     "metadata": {},
     "output_type": "execute_result"
    }
   ],
   "source": [
    "### Read File to Data Frame\n",
    "\n",
    "treefile_df = CSV.read(filepath, DataFrame; delim=' ', ignorerepeated=true, header=2)\n",
    "describe(treefile_df)\n"
   ]
  },
  {
   "cell_type": "code",
   "execution_count": 5,
   "metadata": {},
   "outputs": [
    {
     "name": "stderr",
     "output_type": "stream",
     "text": [
      "┌ Info: Read 1820030 / 1820030 particles\n",
      "└ @ GadgetIO /home/moon/sfortune/.julia/packages/GadgetIO/pdpsI/src/read_snapshot/particles_in_box/read_particle_in_box.jl:169\n",
      "┌ Info: Read 925096 / 925096 particles\n",
      "└ @ GadgetIO /home/moon/sfortune/.julia/packages/GadgetIO/pdpsI/src/read_snapshot/particles_in_box/read_particle_in_box.jl:169\n",
      "┌ Info: Read 2188489 / 2188489 particles\n",
      "└ @ GadgetIO /home/moon/sfortune/.julia/packages/GadgetIO/pdpsI/src/read_snapshot/particles_in_box/read_particle_in_box.jl:169\n"
     ]
    },
    {
     "name": "stdout",
     "output_type": "stream",
     "text": [
      "ErrorException(\"File /HydroSims/Magneticum/Box4/uhr_test/snapdir_135/snap_135.0 not present!\")\n",
      "ErrorException(\"File /HydroSims/Magneticum/Box4/uhr_test/snapdir_135/snap_135.0 not present!\")\n",
      "ErrorException(\"File /HydroSims/Magneticum/Box4/uhr_test/snapdir_135/snap_135.0 not present!\")\n",
      "ErrorException(\"File /HydroSims/Magneticum/Box4/uhr_test/snapdir_135/snap_135.0 not present!\")\n",
      "ErrorException(\"File /HydroSims/Magneticum/Box4/uhr_test/snapdir_135/snap_135.0 not present!\")\n",
      "ErrorException(\"File /HydroSims/Magneticum/Box4/uhr_test/snapdir_135/snap_135.0 not present!\")\n",
      "ErrorException(\"File /HydroSims/Magneticum/Box4/uhr_test/snapdir_135/snap_135.0 not present!\")\n",
      "ErrorException(\"File /HydroSims/Magneticum/Box4/uhr_test/snapdir_135/snap_135.0 not present!\")\n",
      "ErrorException(\"File /HydroSims/Magneticum/Box4/uhr_test/snapdir_135/snap_135.0 not present!\")\n",
      "ErrorException(\"File /HydroSims/Magneticum/Box4/uhr_test/snapdir_135/snap_135.0 not present!\")\n",
      "ErrorException(\"File /HydroSims/Magneticum/Box4/uhr_test/snapdir_135/snap_135.0 not present!\")\n",
      "ErrorException(\"File /HydroSims/Magneticum/Box4/uhr_test/snapdir_135/snap_135.0 not present!\")\n",
      "ErrorException(\"File /HydroSims/Magneticum/Box4/uhr_test/snapdir_135/snap_135.0 not present!\")\n",
      "ErrorException(\"File /HydroSims/Magneticum/Box4/uhr_test/snapdir_135/snap_135.0 not present!\")\n",
      "ErrorException(\"File /HydroSims/Magneticum/Box4/uhr_test/snapdir_135/snap_135.0 not present!\")\n",
      "ErrorException(\"File /HydroSims/Magneticum/Box4/uhr_test/snapdir_135/snap_135.0 not present!\")\n",
      "ErrorException(\"File /HydroSims/Magneticum/Box4/uhr_test/snapdir_135/snap_135.0 not present!\")\n",
      "ErrorException(\"File /HydroSims/Magneticum/Box4/uhr_test/snapdir_134/snap_134.0 not present!\")\n",
      "ErrorException(\"File /HydroSims/Magneticum/Box4/uhr_test/snapdir_134/snap_134.0 not present!\")\n",
      "ErrorException(\"File /HydroSims/Magneticum/Box4/uhr_test/snapdir_134/snap_134.0 not present!\")\n",
      "ErrorException(\"File /HydroSims/Magneticum/Box4/uhr_test/snapdir_134/snap_134.0 not present!\")\n",
      "ErrorException(\"File /HydroSims/Magneticum/Box4/uhr_test/snapdir_134/snap_134.0 not present!\")\n",
      "ErrorException(\"File /HydroSims/Magneticum/Box4/uhr_test/snapdir_134/snap_134.0 not present!\")\n",
      "ErrorException(\"File /HydroSims/Magneticum/Box4/uhr_test/snapdir_134/snap_134.0 not present!\")\n",
      "ErrorException(\"File /HydroSims/Magneticum/Box4/uhr_test/snapdir_134/snap_134.0 not present!\")\n",
      "ErrorException(\"File /HydroSims/Magneticum/Box4/uhr_test/snapdir_134/snap_134.0 not present!\")\n",
      "ErrorException(\"File /HydroSims/Magneticum/Box4/uhr_test/snapdir_133/snap_133.0 not present!\")\n",
      "ErrorException(\"File /HydroSims/Magneticum/Box4/uhr_test/snapdir_133/snap_133.0 not present!\")\n",
      "ErrorException(\"File /HydroSims/Magneticum/Box4/uhr_test/snapdir_133/snap_133.0 not present!\")\n",
      "ErrorException(\"File /HydroSims/Magneticum/Box4/uhr_test/snapdir_133/snap_133.0 not present!\")\n",
      "ErrorException(\"File /HydroSims/Magneticum/Box4/uhr_test/snapdir_133/snap_133.0 not present!\")\n"
     ]
    },
    {
     "name": "stderr",
     "output_type": "stream",
     "text": [
      "┌ Info: Read 1833391 / 1833391 particles\n",
      "└ @ GadgetIO /home/moon/sfortune/.julia/packages/GadgetIO/pdpsI/src/read_snapshot/particles_in_box/read_particle_in_box.jl:169\n",
      "┌ Info: Read 833111 / 833111 particles\n",
      "└ @ GadgetIO /home/moon/sfortune/.julia/packages/GadgetIO/pdpsI/src/read_snapshot/particles_in_box/read_particle_in_box.jl:169\n",
      "┌ Info: Read 2478784 / 2478784 particles\n",
      "└ @ GadgetIO /home/moon/sfortune/.julia/packages/GadgetIO/pdpsI/src/read_snapshot/particles_in_box/read_particle_in_box.jl:169\n"
     ]
    },
    {
     "name": "stdout",
     "output_type": "stream",
     "text": [
      "ErrorException(\"File /HydroSims/Magneticum/Box4/uhr_test/snapdir_131/snap_131.0 not present!\")\n",
      "ErrorException(\"File /HydroSims/Magneticum/Box4/uhr_test/snapdir_131/snap_131.0 not present!\")\n",
      "ErrorException(\"File /HydroSims/Magneticum/Box4/uhr_test/snapdir_131/snap_131.0 not present!\")\n",
      "ErrorException(\"File /HydroSims/Magneticum/Box4/uhr_test/snapdir_131/snap_131.0 not present!\")\n",
      "ErrorException(\"File /HydroSims/Magneticum/Box4/uhr_test/snapdir_131/snap_131.0 not present!\")\n",
      "ErrorException(\"File /HydroSims/Magneticum/Box4/uhr_test/snapdir_131/snap_131.0 not present!\")\n",
      "ErrorException(\"File /HydroSims/Magneticum/Box4/uhr_test/snapdir_130/snap_130.0 not present!\")\n"
     ]
    }
   ],
   "source": [
    "### Calculations\n",
    "halo_story = Dict(\n",
    "    \"ID\"=>haloID, \n",
    "    \"BOX\"=>box, \n",
    "    \"SNAP\"=>Array{Int64}(undef, 0), \n",
    "    \"SUBID\"=>Array{Int64}(undef, 0), \n",
    "    \"REDSHIFT\"=>Array{Float64}(undef, 0), \n",
    "    #\"DMmass\"=>Array{Float64}(undef, 0), \n",
    "    \"DMmass\"=>missings(Float64, 0),\n",
    "    #\"DMhalfmassradius\"=>Array{Float64}(undef, 0), \n",
    "    \"DMhalfmassradius\"=>missings(Float64, 0),\n",
    "    #\"DMangmom\"=>Array{Float64}(undef, 3, 0), \n",
    "    \"DMangmom\"=>missings(Float64, 3, 0),\n",
    "    #\"GASmass\"=>Array{Float64}(undef, 0), \n",
    "    \"GASmass\"=>missings(Float64, 0),\n",
    "    #\"GAShalfmassradius\"=>Array{Float64}(undef, 0), \n",
    "    \"GAShalfmassradius\"=>missings(Float64, 0),\n",
    "    #\"GASangmom\"=>Array{Float64}(undef, 0), \n",
    "    \"GASangmom\"=>missings(Float64, 3, 0),\n",
    "    #\"STARSmass\"=>Array{Float64}(undef, 0), \n",
    "    \"STARSmass\"=>missings(Float64, 0),\n",
    "    #\"STARShalfmassradius\"=>Array{Float64}(undef, 0), \n",
    "    \"STARShalfmassradius\"=>missings(Float64, 0),\n",
    "    #\"STARSangmom\"=>Array{Float64}(undef, 0))\n",
    "    \"STARSangmom\"=>missings(Float64, 3, 0))\n",
    "\n",
    "errors = Dict(\n",
    "    \"SNAP\"=>Array{Int64}(undef, 0), \n",
    "    \"SUBID\"=>Array{Int64}(undef, 0),\n",
    "    \"ERRMSG\"=>Vector{String}())\n",
    "\n",
    "\n",
    "\n",
    "for i in 1:40#length(treefile_df[:, :I_SUB])\n",
    "    snapshot = Snapshot(box, treefile_df[:, :SNAP][i])\n",
    "    snapshot.snapbase\n",
    "    snapshot.subbase\n",
    "    g = Galaxy(snapshot, treefile_df[:, :I_SUB][i])\n",
    "    try\n",
    "        read_halo!(g, units=:physical)\n",
    "        halo_story[\"SNAP\"]  = vcat(halo_story[\"SNAP\"], treefile_df[:, :SNAP][i])\n",
    "        halo_story[\"SUBID\"] = vcat(halo_story[\"SUBID\"], treefile_df[:, :I_SUB][i])\n",
    "        halo_story[\"REDSHIFT\"] = vcat(halo_story[\"REDSHIFT\"], treefile_df[:, :REDSHIFT][i])\n",
    "        halo_story[\"DMmass\"] = vcat(halo_story[\"DMmass\"], GadgetGalaxies.total_mass(g.dm.pos, g.dm.mass))\n",
    "        if halo_story[\"DMmass\"][end] > 0.0\n",
    "            halo_story[\"DMhalfmassradius\"]  = vcat(halo_story[\"DMhalfmassradius\"], half_mass_radius(g.dm))\n",
    "            halo_story[\"DMangmom\"]          = hcat(halo_story[\"DMangmom\"], angular_momentum(g.dm))\n",
    "        else\n",
    "            halo_story[\"DMhalfmassradius\"]  = vcat(halo_story[\"DMhalfmassradius\"], missing)\n",
    "            halo_story[\"DMangmom\"]          = hcat(halo_story[\"DMangmom\"], [missing, missing, missing])\n",
    "        end\n",
    "        halo_story[\"GASmass\"] = vcat(halo_story[\"GASmass\"], GadgetGalaxies.total_mass(g.gas.pos, g.gas.mass))\n",
    "        if halo_story[\"GASmass\"][end] > 0.0\n",
    "            halo_story[\"GAShalfmassradius\"]  = vcat(halo_story[\"GAShalfmassradius\"], half_mass_radius(g.gas))\n",
    "            halo_story[\"GASangmom\"]          = hcat(halo_story[\"GASangmom\"], angular_momentum(g.gas))\n",
    "        else\n",
    "            halo_story[\"GAShalfmassradius\"]  = vcat(halo_story[\"GAShalfmassradius\"], missing)\n",
    "            halo_story[\"GASangmom\"]          = hcat(halo_story[\"GASangmom\"], [missing, missing, missing])\n",
    "        end\n",
    "        halo_story[\"STARSmass\"] = vcat(halo_story[\"STARSmass\"], GadgetGalaxies.total_mass(g.stars.pos, g.stars.mass))\n",
    "        if halo_story[\"STARSmass\"][end] > 0.0\n",
    "            halo_story[\"STARShalfmassradius\"] = vcat(halo_story[\"STARShalfmassradius\"], half_mass_radius(g.stars))\n",
    "            halo_story[\"STARSangmom\"]         = hcat(halo_story[\"STARSangmom\"], angular_momentum(g.stars))\n",
    "        else\n",
    "            halo_story[\"STARShalfmassradius\"]  = vcat(halo_story[\"STARShalfmassradius\"], missing)\n",
    "            halo_story[\"STARSangmom\"]          = hcat(halo_story[\"STARSangmom\"], [missing, missing, missing])\n",
    "        end\n",
    "    catch e\n",
    "        println(e)\n",
    "        errors[\"SNAP\"]  = vcat(errors[\"SNAP\"], treefile_df[:, :SNAP][i])\n",
    "        errors[\"SUBID\"] = vcat(errors[\"SUBID\"], treefile_df[:, :I_SUB][i])\n",
    "        push!(errors[\"ERRMSG\"], string(e))\n",
    "    end\n",
    "end"
   ]
  },
  {
   "cell_type": "code",
   "execution_count": 6,
   "metadata": {},
   "outputs": [],
   "source": [
    "save(joinpath(@__DIR__, \"angmomevo/halo_$haloID.jld\"), \n",
    "    \"halo_story\",   halo_story,\n",
    "    \"errors\",       errors)"
   ]
  },
  {
   "cell_type": "code",
   "execution_count": 7,
   "metadata": {},
   "outputs": [
    {
     "data": {
      "text/plain": [
       "2112-element Vector{String}:\n",
       " \"halo_0.dat\"\n",
       " \"halo_1.dat\"\n",
       " \"halo_10.dat\"\n",
       " \"halo_100.dat\"\n",
       " \"halo_1000.dat\"\n",
       " \"halo_1001.dat\"\n",
       " \"halo_1002.dat\"\n",
       " \"halo_1003.dat\"\n",
       " \"halo_1004.dat\"\n",
       " \"halo_1005.dat\"\n",
       " \"halo_1006.dat\"\n",
       " \"halo_1007.dat\"\n",
       " \"halo_1008.dat\"\n",
       " ⋮\n",
       " \"halo_989.dat\"\n",
       " \"halo_99.dat\"\n",
       " \"halo_990.dat\"\n",
       " \"halo_991.dat\"\n",
       " \"halo_992.dat\"\n",
       " \"halo_993.dat\"\n",
       " \"halo_994.dat\"\n",
       " \"halo_995.dat\"\n",
       " \"halo_996.dat\"\n",
       " \"halo_997.dat\"\n",
       " \"halo_998.dat\"\n",
       " \"halo_999.dat\""
      ]
     },
     "execution_count": 7,
     "metadata": {},
     "output_type": "execute_result"
    }
   ],
   "source": [
    "halofiles = readdir(\"/home/moon/fschulze/MA/Data/thesis/Halo_trace_20200605_new/\")"
   ]
  },
  {
   "cell_type": "code",
   "execution_count": 8,
   "metadata": {},
   "outputs": [
    {
     "ename": "LoadError",
     "evalue": "UndefVarError: orbit_J not defined",
     "output_type": "error",
     "traceback": [
      "UndefVarError: orbit_J not defined",
      "",
      "Stacktrace:",
      " [1] top-level scope",
      "   @ In[8]:18",
      " [2] eval",
      "   @ ./boot.jl:360 [inlined]",
      " [3] include_string(mapexpr::typeof(REPL.softscope), mod::Module, code::String, filename::String)",
      "   @ Base ./loading.jl:1094"
     ]
    }
   ],
   "source": [
    "# Find Central Subhalo for given subhalo\n",
    "function find_central_halo(snapID, subID)\n",
    "    pathtofile  = \"/HydroSims/Magneticum/Box4/uhr_test/groups_$snapID/sub_$snapID\"\n",
    "    head        = read_header(pathtofile)\n",
    "    nsub        = read_subfind(pathtofile, \"NSUB\")\n",
    "    centID = 0\n",
    "    for f in 1:length(nsub)\n",
    "        if subID > centID\n",
    "            centID += nsub[f]\n",
    "        else\n",
    "            break\n",
    "        end\n",
    "    end\n",
    "    #halo_dmmasses   = convert_units_physical(mtot, :mass, head)\n",
    "    return centID\n",
    "end\n"
   ]
  },
  {
   "cell_type": "code",
   "execution_count": 11,
   "metadata": {},
   "outputs": [
    {
     "ename": "LoadError",
     "evalue": "ArgumentError: adding AbstractArray other than AbstractVector as a column of a data frame is not allowed",
     "output_type": "error",
     "traceback": [
      "ArgumentError: adding AbstractArray other than AbstractVector as a column of a data frame is not allowed",
      "",
      "Stacktrace:",
      " [1] insertcols!(df::DataFrame, col::Int64, name_cols::Pair{Symbol, Matrix{Union{Missing, Float64}}}; makeunique::Bool, copycols::Bool)",
      "   @ DataFrames ~/.julia/packages/DataFrames/nxjiD/src/dataframe/dataframe.jl:847",
      " [2] insertcols!(df::DataFrame, col::Int64, name_cols::Pair{Symbol, Matrix{Union{Missing, Float64}}})",
      "   @ DataFrames ~/.julia/packages/DataFrames/nxjiD/src/dataframe/dataframe.jl:807",
      " [3] top-level scope",
      "   @ In[11]:2",
      " [4] eval",
      "   @ ./boot.jl:360 [inlined]",
      " [5] include_string(mapexpr::typeof(REPL.softscope), mod::Module, code::String, filename::String)",
      "   @ Base ./loading.jl:1094"
     ]
    }
   ],
   "source": [
    "\n",
    "treefile2 = insertcols!(treefile_df, 1, :DMangmom => missings(Float64, 3, length(treefile_df[:, :I_SUB])))\n",
    "describe(treefile2)"
   ]
  }
 ],
 "metadata": {
  "kernelspec": {
   "display_name": "Julia 1.6.1",
   "language": "julia",
   "name": "julia-1.6"
  },
  "language_info": {
   "name": "julia",
   "version": ""
  },
  "orig_nbformat": 4
 },
 "nbformat": 4,
 "nbformat_minor": 2
}
